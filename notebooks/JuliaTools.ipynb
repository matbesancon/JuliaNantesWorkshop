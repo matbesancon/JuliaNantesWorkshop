{
 "cells": [
  {
   "cell_type": "markdown",
   "metadata": {
    "slideshow": {
     "slide_type": "slide"
    }
   },
   "source": [
    "# Getting started with Julia for reproducible science\n",
    "\n",
    "Mathieu Besançon  \n",
    "Polytechnique Montréal, INRIA & Centrale Lille\n",
    "\n",
    "Re-using / citing the materials:  \n",
    "[![DOI](https://zenodo.org/badge/DOI/10.5281/zenodo.3249868.svg)](https://doi.org/10.5281/zenodo.3249868)"
   ]
  },
  {
   "cell_type": "markdown",
   "metadata": {
    "slideshow": {
     "slide_type": "slide"
    }
   },
   "source": [
    "## Logistics\n",
    "\n",
    "Slides at https://matbesancon.github.io/slides/JuliaNantes/JuliaTools.html  \n",
    "Repository at https://github.com/matbesancon/JuliaNantes  \n",
    "\n",
    "Lots of references & pointers, for the trip home.\n",
    "\n",
    "Twitter for live-complaints: `@matbesancon`"
   ]
  },
  {
   "cell_type": "markdown",
   "metadata": {
    "slideshow": {
     "slide_type": "slide"
    }
   },
   "source": [
    "# Content\n",
    "\n",
    "- Reproducibility, why?\n",
    "- Getting started with Git\n",
    "- Working alone\n",
    "    - Projects & environments\n",
    "    - Tests\n",
    "    - Publishing code\n",
    "    - Working with data\n",
    "- Collaborating on code\n",
    "    - General workflow\n",
    "    - Demo & homework\n",
    "\n",
    "Bonus:\n",
    "    - Unaesthetic diagrams\n",
    "    - Latest research in linear algebra\n",
    "    - Homework"
   ]
  },
  {
   "cell_type": "markdown",
   "metadata": {
    "slideshow": {
     "slide_type": "slide"
    }
   },
   "source": [
    "# Reproducibility: why should I care?\n",
    "\n",
    "- **Industrial software**:\n",
    "    - Written once, used often, in (almost) all contexts\n",
    "    - Bugs are found (eventually) and fixed\n",
    "\n",
    "\n",
    "- **Academic software**:\n",
    "    - Re-written a lot, used one final time\n",
    "    - Used in a static, long-lasting document (paper)\n",
    "    - Tested for one application? On how many data sets?"
   ]
  },
  {
   "cell_type": "markdown",
   "metadata": {
    "slideshow": {
     "slide_type": "slide"
    }
   },
   "source": [
    "- First person reproducing results: **you** in a couple months\n",
    "- Tools should buy a peace of mind, not additional burden\n",
    "- Increasing expectations on reproducible software\n",
    "    - NeurIPS reproducibility [checklist](https://www.cs.mcgill.ca/~jpineau/ReproducibilityChecklist.pdf) for all papers\n",
    "    - Requirements on reproducibility: not just by you, not just on your machine\n",
    "\n",
    "5 levels of reproducibility defined in P. Vandewalle, J. Kovacevic and M. Vetterli, \"Reproducible research in signal processing\"  \n",
    "DOI: 10.1109/MSP.2009.932122"
   ]
  },
  {
   "cell_type": "markdown",
   "metadata": {
    "slideshow": {
     "slide_type": "slide"
    }
   },
   "source": [
    "# Meet Git: the time machine for computer files\n",
    "\n",
    "## Download\n",
    "\n",
    "On Linux, git is probably installed, otherwise:  \n",
    "https://git-scm.com/downloads\n",
    "\n",
    "## Learn\n",
    "\n",
    "- https://fr.atlassian.com/git\n",
    "- https://guides.github.com/introduction/git-handbook\n",
    "- https://openclassrooms.com/fr/courses/2342361-gerez-votre-code-avec-git-et-github\n",
    "- https://openclassrooms.com/en/courses/5671626-manage-your-code-project-with-git-github\n",
    "\n",
    "## Try online\n",
    "- https://learngitbranching.js.org"
   ]
  },
  {
   "cell_type": "markdown",
   "metadata": {
    "slideshow": {
     "slide_type": "slide"
    }
   },
   "source": [
    "# Demo 1: a git project\n",
    "\n",
    "<input type=\"checkbox\" unchecked> New project  \n",
    "<input type=\"checkbox\" unchecked> Add files  \n",
    "<input type=\"checkbox\" unchecked> Commit  \n",
    "<input type=\"checkbox\" unchecked> See versions  "
   ]
  },
  {
   "cell_type": "markdown",
   "metadata": {
    "slideshow": {
     "slide_type": "slide"
    }
   },
   "source": [
    "# Working alone\n",
    "\n",
    "- One project, isolated from the rest\n",
    "- Build a library or produce results\n",
    "\n",
    "```shell\n",
    "$ tree\n",
    ".\n",
    "├── code\n",
    "├── data\n",
    "│   ├── data1.csv\n",
    "│   └── data2.txt\n",
    "├── results\n",
    "│   ├── results.csv\n",
    "│   └── img\n",
    "│\n",
    "└── paper\n",
    "    └── paper.tex\n",
    "```"
   ]
  },
  {
   "cell_type": "markdown",
   "metadata": {
    "slideshow": {
     "slide_type": "slide"
    }
   },
   "source": [
    "## Why not a script?\n",
    "\n",
    "- Upgrading dependencies -> did I break my code?\n",
    "- Am I sure this code can be run anywhere?\n",
    "- Article review after 6 months -> is it still fine?"
   ]
  },
  {
   "cell_type": "markdown",
   "metadata": {
    "slideshow": {
     "slide_type": "slide"
    }
   },
   "source": [
    "## Working in environments\n",
    "![](img/pkg_structure_projects.svg)"
   ]
  },
  {
   "cell_type": "markdown",
   "metadata": {
    "slideshow": {
     "slide_type": "slide"
    }
   },
   "source": [
    "## Safely depending on libraries\n",
    "![](img/pkg_structure_full.svg)"
   ]
  },
  {
   "cell_type": "markdown",
   "metadata": {
    "slideshow": {
     "slide_type": "slide"
    }
   },
   "source": [
    "# Pkg tools: files\n",
    "\n",
    "### Project.toml\n",
    "\n",
    "- This directory is a Julia Project\n",
    "- Shows **what I need**\n",
    "- Necessary for all projects\n",
    "\n",
    "### Manifest.toml\n",
    "\n",
    "- Generated when activating the project\n",
    "- Shows **how it was run**\n",
    "- Useful for debugging and research\n",
    "\n",
    "Freeze the Manifest $\\Rightarrow$ freeze how it's run "
   ]
  },
  {
   "cell_type": "markdown",
   "metadata": {
    "slideshow": {
     "slide_type": "slide"
    }
   },
   "source": [
    "# Demo 2: Pkg tools\n",
    "\n",
    "<input type=\"checkbox\" unchecked> Generate project IdentityMatrices  \n",
    "<input type=\"checkbox\" unchecked> Add dependencies  \n",
    "<input type=\"checkbox\" unchecked> See Project.toml, Manifest.toml  \n",
    "\n",
    "All is in the Pkg [documentation](https://julialang.github.io/Pkg.jl/v1), go read it."
   ]
  },
  {
   "cell_type": "markdown",
   "metadata": {
    "slideshow": {
     "slide_type": "slide"
    }
   },
   "source": [
    "## Project isolation\n",
    "\n",
    "Launch Julia and activate your project:\n",
    "```\n",
    "$ julia --project=@.\n",
    "```\n",
    "\n",
    "Launch, and then activate:\n",
    "```julia\n",
    "julia> ]\n",
    "(v1.1) pkg> activate .\n",
    "```"
   ]
  },
  {
   "cell_type": "markdown",
   "metadata": {
    "slideshow": {
     "slide_type": "slide"
    }
   },
   "source": [
    "## Get a project and set the required environment\n",
    "\n",
    "```julia\n",
    "julia> ]\n",
    "(v1.1) pkg> activate .\n",
    "(JuliaNantes) pkg> instantiate\n",
    "```\n",
    "\n",
    "If *Manifest.toml* provided $\\Rightarrow$ same exact configuration as when the code was written.  \n",
    "Otherwise $\\Rightarrow$ compatible configuration with *Project.toml*, creates a Manifest file."
   ]
  },
  {
   "cell_type": "markdown",
   "metadata": {
    "slideshow": {
     "slide_type": "slide"
    }
   },
   "source": [
    "# Tests, the easy way\n",
    "\n",
    "Research software moves fast, and breaks things.\n",
    "\n",
    "Tests:\n",
    "- Specify expected behavior\n",
    "- Communicate usage\n",
    "- Signal robustness\n",
    "- Safeguard against your future self\n",
    "- Put yourself in the user's shoes"
   ]
  },
  {
   "cell_type": "markdown",
   "metadata": {
    "slideshow": {
     "slide_type": "slide"
    }
   },
   "source": [
    "# Demo 3: writing tests\n",
    "\n",
    "<input type=\"checkbox\" unchecked> First tests for `IdentityMatrices`  \n",
    "<input type=\"checkbox\" unchecked> Write code for `IdentityMatrices`  \n",
    "<input type=\"checkbox\" unchecked> Test-specific dependencies  "
   ]
  },
  {
   "cell_type": "markdown",
   "metadata": {
    "slideshow": {
     "slide_type": "slide"
    }
   },
   "source": [
    "### Personal tips\n",
    "\n",
    "Cover corner cases:\n",
    "- `@test_throws` with expected error\n",
    "- What happens with limit values?\n",
    "```julia\n",
    "@test_throws MethodError mean([\"hello\"])\n",
    "@test isnan(mean(Float64[]))\n",
    "```\n",
    "\n",
    "- Avoid too special structure in tests\n",
    "Example: input always integer.  \n",
    "\n",
    "Avoid trivial \"comfort\" tests.  \n",
    "Example: copying a function implementation to test it:\n",
    "```julia\n",
    "@test mean(x) == sum(x) / length(x)\n",
    "```"
   ]
  },
  {
   "cell_type": "markdown",
   "metadata": {
    "slideshow": {
     "slide_type": "slide"
    }
   },
   "source": [
    "## Unit VS Property test\n",
    "\n",
    "- Unit: test a given evaluation / data point\n",
    "- Property tests: test a property of the result for given input\n",
    "\n",
    "Examples: positivity, idempotency, existence for **any** input, order conservation, ...\n",
    "\n",
    "Two steps:\n",
    "1. generate random input\n",
    "2. test property"
   ]
  },
  {
   "cell_type": "markdown",
   "metadata": {
    "slideshow": {
     "slide_type": "slide"
    }
   },
   "source": [
    "# Publishing code\n",
    "\n",
    "### Why?\n",
    "\n",
    "> An article about computational results is advertising, not scholarship. The actual scholarship is the full software environment, code and data, that produced the result.  \n",
    "> [Claerbout and Karrenbach 1992](http://sepwww.stanford.edu/doku.php?id=sep:research:reproducible:seg92)\n",
    "\n",
    "Showcase your work, reference it in your paper.\n",
    "\n",
    "Better **something** out now than some day a \"perfect\" library."
   ]
  },
  {
   "cell_type": "markdown",
   "metadata": {
    "slideshow": {
     "slide_type": "slide"
    }
   },
   "source": [
    "### How?\n",
    "\n",
    "- Git platform (GitHub, Bitbucket, Gitlab)\n",
    "- [Zenodo](https://zenodo.org): DOI provider and archive\n",
    "- [Figshare](https://figshare.com): citable archive for data\n",
    "- HAL [Archive ouverte](hal.archives-ouvertes.fr)\n",
    "\n",
    "### A standard?\n",
    "\n",
    "Parts of the Julia community moving towards `CITATION.bib`"
   ]
  },
  {
   "cell_type": "markdown",
   "metadata": {
    "slideshow": {
     "slide_type": "slide"
    }
   },
   "source": [
    "## What about data?\n",
    "\n",
    "- Do not track massive data sets with git\n",
    "- Then how?  "
   ]
  },
  {
   "cell_type": "markdown",
   "metadata": {
    "slideshow": {
     "slide_type": "slide"
    }
   },
   "source": [
    "![](img/datadeps.png)  \n",
    "Source: Lyndon White, DataDeps.jl, JuliaCon2018 https://doi.org/10.6084/m9.figshare.6949145.v1"
   ]
  },
  {
   "cell_type": "markdown",
   "metadata": {
    "slideshow": {
     "slide_type": "slide"
    }
   },
   "source": [
    "## DataDeps.jl\n",
    "\n",
    "- Describe once *how* to get the data, parse preprocess\n",
    "- Data gets cached, no 2nd download if available\n",
    "\n",
    "Go check it: https://github.com/oxinabox/DataDeps.jl"
   ]
  },
  {
   "cell_type": "markdown",
   "metadata": {
    "slideshow": {
     "slide_type": "slide"
    }
   },
   "source": [
    "# Collaborating on code and research\n",
    "\n",
    "Why?\n",
    "\n",
    "1. Using projects and getting a valuable experience to report\n",
    "2. Use-case not covered (yet)\n",
    "3. Somebody noticed your work online and wants to help\n",
    "4. Great opportunity for unexpected research projects"
   ]
  },
  {
   "cell_type": "markdown",
   "metadata": {
    "slideshow": {
     "slide_type": "slide"
    }
   },
   "source": [
    "![](img/pr_gitflow.svg)  \n",
    "More info on https://guides.github.com/introduction/flow"
   ]
  },
  {
   "cell_type": "markdown",
   "metadata": {
    "slideshow": {
     "slide_type": "slide"
    }
   },
   "source": [
    "# Demo 4: Contributing somewhere\n",
    "\n",
    "<input type=\"checkbox\" unchecked> Find a project to contribute to\n",
    "\n",
    "- github.com/JuliaStats/Distributions.jl\n",
    "- github.com/JuliaGraphs/LightGraphs.jl\n",
    "- github.com/JuliaOpt/MathOptInterface.jl\n",
    "- github.com/JuliaOpt/JuMP.jl\n",
    "\n",
    "<input type=\"checkbox\" unchecked> Fork  \n",
    "<input type=\"checkbox\" unchecked> Develop locally  \n",
    "<input type=\"checkbox\" unchecked> Commit & push to fork  \n",
    "<input type=\"checkbox\" unchecked> Pull request  "
   ]
  },
  {
   "cell_type": "markdown",
   "metadata": {
    "slideshow": {
     "slide_type": "slide"
    }
   },
   "source": [
    "# Automate the burden: Continuous Integration\n",
    "\n",
    "[Travis](https://travis-ci.org/) (Continuous Integration)  \n",
    "[codecov](https://codecov.io//) (Code coverage)"
   ]
  },
  {
   "cell_type": "markdown",
   "metadata": {
    "slideshow": {
     "slide_type": "slide"
    }
   },
   "source": [
    "## Continuous Integration\n",
    "\n",
    "This works... on my machine.  \n",
    "What if I could check it on a clean computer, without my setup?\n",
    "\n",
    "![](./img/travis.png)"
   ]
  },
  {
   "cell_type": "markdown",
   "metadata": {
    "slideshow": {
     "slide_type": "slide"
    }
   },
   "source": [
    "## Checking for every change (Pull Request)\n",
    "\n",
    "![](./img/travis_pr.png)"
   ]
  },
  {
   "cell_type": "markdown",
   "metadata": {
    "slideshow": {
     "slide_type": "slide"
    }
   },
   "source": [
    "# Code coverage\n",
    "\n",
    "How much of the package behaviour did I test? (at least once)?\n",
    "\n",
    "![](./img/codecov.png)"
   ]
  },
  {
   "cell_type": "markdown",
   "metadata": {
    "slideshow": {
     "slide_type": "slide"
    }
   },
   "source": [
    "## Take-away\n",
    "\n",
    "- Version control is the foundation for lots of modern tools\n",
    "- Tests make your life easier\n",
    "- Sharing code increases visibility, creates research opportunities\n",
    "\n",
    "## Homework\n",
    "\n",
    "- Reproduce all the demos  \n",
    "- Use git on your research projects  \n",
    "- Contribute to a package (demo 4)  \n",
    "- Publish your first package  "
   ]
  },
  {
   "cell_type": "markdown",
   "metadata": {
    "slideshow": {
     "slide_type": "slide"
    }
   },
   "source": [
    "## Reading more\n",
    "\n",
    "Mathieu Tanneau's tutorial on coding for research: https://github.com/mtanneau/tutorial_airo  \n",
    "Jane Herriman, *How to get started with Julia 1.0's package manager*: https://www.youtube.com/watch?v=76KL8aSz0Sg  \n",
    "Read the documentation https://docs.julialang.org/en/v1/stdlib/Pkg/index.html"
   ]
  }
 ],
 "metadata": {
  "kernelspec": {
   "display_name": "Julia 1.1.1",
   "language": "julia",
   "name": "julia-1.1"
  },
  "language_info": {
   "file_extension": ".jl",
   "mimetype": "application/julia",
   "name": "julia",
   "version": "1.1.1"
  }
 },
 "nbformat": 4,
 "nbformat_minor": 2
}
